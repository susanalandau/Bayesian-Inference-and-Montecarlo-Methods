{
 "cells": [
  {
   "cell_type": "code",
   "execution_count": 2,
   "id": "7a50c664",
   "metadata": {},
   "outputs": [],
   "source": [
    "import numpy as np\n",
    "import matplotlib.pyplot as plt\n",
    "import emcee\n",
    "import h5py"
   ]
  },
  {
   "cell_type": "markdown",
   "id": "c016777c",
   "metadata": {},
   "source": [
    "#### Generate synthetic data"
   ]
  },
  {
   "cell_type": "code",
   "execution_count": null,
   "id": "4645a014",
   "metadata": {},
   "outputs": [],
   "source": [
    "np.random.seed(43)  # \n",
    "funcion = lambda x: 2*np.sin(0.5*x) + 3\n",
    "x=np.linspace(0,20,100)\n",
    "y_prueba=funcion(x)\n",
    "y=funcion(x)+np.random.uniform(-0.2,0.2,len(x))\n",
    "#y=funcion(x)\n",
    "error_y=np.random.uniform(0.2,0.4,len(x))\n",
    "datos = np.column_stack((x, y, error_y))\n",
    "\n",
    "# Save the data to a text file\n",
    "np.savetxt('datos.txt', datos, fmt='%.6f', header='x y error_y', comments='# ')"
   ]
  },
  {
   "cell_type": "code",
   "execution_count": 4,
   "id": "96454160",
   "metadata": {},
   "outputs": [
    {
     "data": {
      "image/png": "[encoded data removed]",
      "text/plain": [
       "<Figure size 640x480 with 1 Axes>"
      ]
     },
     "metadata": {},
     "output_type": "display_data"
    }
   ],
   "source": [
    "plt.figure()\n",
    "#plt.plot(x,y,\".\")\n",
    "plt.errorbar(x,y,yerr=error_y, fmt='o')\n",
    "plt.show()"
   ]
  },
  {
   "cell_type": "code",
   "execution_count": null,
   "id": "a61ddf36",
   "metadata": {},
   "outputs": [],
   "source": [
    "# Define the log-likelihood and log-posterior functions (prior is uniform)\n",
    "def log_likelihood(params, x, y, error_y):\n",
    "    a, b = params\n",
    "    model = a*np.sin(0.5*x)+b\n",
    "    residuals = (y - model) / error_y\n",
    "    return -0.5 * np.sum(residuals**2)\n",
    "def log_posterior(params, x, y, error_y):\n",
    "    a, b = params\n",
    "    if -20 < a < 20  and -20 < b < 20:\n",
    "        logpost = log_likelihood(params, x, y, error_y)\n",
    "    else:\n",
    "        logpost = -np.inf\n",
    "    #print(logpost)\n",
    "    return logpost"
   ]
  },
  {
   "cell_type": "markdown",
   "id": "68500bc6",
   "metadata": {},
   "source": [
    "#### Sampling of the posterior probability distribution with Emcee"
   ]
  },
  {
   "cell_type": "code",
   "execution_count": 8,
   "id": "7b81e01e",
   "metadata": {},
   "outputs": [
    {
     "name": "stderr",
     "output_type": "stream",
     "text": [
      "You must install the tqdm library to use progress indicators with emcee\n"
     ]
    }
   ],
   "source": [
    "# set up the problem\n",
    "ndim     = 2                                # number of parameters\n",
    "nwalkers = 6                            # number of walkers\n",
    "nwalkers=int(nwalkers)\n",
    "ndim=int(ndim)\n",
    "nsteps   = 9000                              # number of steps per walker\n",
    "init0    = -18                          # initial value for a\n",
    "init1    = 15                           # initial value for b\n",
    "\n",
    "\n",
    "p0 = np.array([init0, init1])\n",
    "# p0 will now be turned into a (nwalkers, ndim) array\n",
    "p0 = p0 + np.zeros( (nwalkers, ndim) )\n",
    "# Add a small random perturbation to each walker's initial position\n",
    "# to avoid them all starting in the same place\n",
    "p0[:,0] = p0[:,0] + np.random.uniform( low=-0.01, high=0.01, size=nwalkers )\n",
    "p0[:,1] = p0[:,1] + np.random.uniform( low=-0.01, high=0.01, size=nwalkers )\n",
    "\n",
    "\n",
    "\n",
    "\n",
    "\n",
    "\n",
    "# run the MCMC sampler\n",
    "# here you should specify the output file in your personal computer directory\n",
    "output_cadenas='/home/slandau/OneDrive/stats_peru/scripts/output_cadenas/'\n",
    "# here the name of the output file is defined\n",
    "backend   = emcee.backends.HDFBackend(output_cadenas+'prueba_2param_2.h5')\n",
    "backend.reset(nwalkers, ndim)\n",
    "# Define the step size of the MCMC sampler \n",
    "moves_list =  [emcee.moves.StretchMove(a=0.0001)]\n",
    "# other moves, see emcee documentation \n",
    "#moves_list=[(emcee.moves.DEMove(), 0.4), (emcee.moves.DESnookerMove(), 0.3), (emcee.moves.StretchMove(a=2.0),0.8)]\n",
    "#\t        , (emcee.moves.KDEMove(), 0.3)]\n",
    "#sampler = emcee.EnsembleSampler( nwalkers, ndim, log_posterior, args=(x_data, y_data, error_y),backend=backend,\n",
    "#                                moves=moves_list)\n",
    "\n",
    "sampler = emcee.EnsembleSampler( nwalkers, ndim, log_posterior, args=(x, y, error_y),backend=backend)\n",
    "\n",
    "\n",
    "\n",
    "\n",
    "\n",
    "\n",
    "# maximum number of steps\n",
    "\n",
    "max_n = nsteps\n",
    "\n",
    "# We'll track how the average autocorrelation time estimate changes\n",
    "index = 0\n",
    "autocorr = np.empty(max_n)\n",
    "\n",
    "\n",
    "# This will be useful to testing convergence\n",
    "old_tau = np.inf\n",
    "\n",
    "\n",
    "# Now we'll sample for up to max_n steps\n",
    "for sample in sampler.sample(p0, iterations=max_n, progress=True):\n",
    "    # Only check convergence every 100 steps\n",
    "    if sampler.iteration % 100:\n",
    "        continue\n",
    "\n",
    "    # Compute the autocorrelation time so far\n",
    "    # Using tol=0 means that we'll always get an estimate even\n",
    "    # if it isn't trustworthy\n",
    "    tau = sampler.get_autocorr_time(tol=0)\n",
    "    autocorr[index] = np.mean(tau)\n",
    "    index += 1\n",
    "\n",
    "    # Check convergence\n",
    "    converged = np.all(tau * 100 < sampler.iteration)\n",
    "    converged &= np.all(np.abs(old_tau - tau) / tau < 0.01)\n",
    "    if converged:\n",
    "        break\n",
    "    old_tau = tau"
   ]
  },
  {
   "cell_type": "code",
   "execution_count": null,
   "id": "dc966c23",
   "metadata": {},
   "outputs": [],
   "source": []
  }
 ],
 "metadata": {
  "kernelspec": {
   "display_name": "stats",
   "language": "python",
   "name": "python3"
  },
  "language_info": {
   "codemirror_mode": {
    "name": "ipython",
    "version": 3
   },
   "file_extension": ".py",
   "mimetype": "text/x-python",
   "name": "python",
   "nbconvert_exporter": "python",
   "pygments_lexer": "ipython3",
   "version": "3.11.13"
  }
 },
 "nbformat": 4,
 "nbformat_minor": 5
}

{
 "cells": [
  {
   "attachments": {},
   "cell_type": "markdown",
   "metadata": {
    "slideshow": {
     "slide_type": "slide"
    }
   },
   "source": [
    "## Computing  $\\pi$ with Monte Carlo Methods"
   ]
  },
  {
   "cell_type": "code",
   "execution_count": 1,
   "metadata": {},
   "outputs": [],
   "source": [
    "import numpy as np\n",
    "import matplotlib.pyplot as plt"
   ]
  },
  {
   "attachments": {},
   "cell_type": "markdown",
   "metadata": {},
   "source": [
    "#### Compute  the value of $\\pi$ by randomly throwing N points onto a square with sides of 2 cm, inside which a circle of radius 1 cm is inscribed. The ratio between the area of the circle and the area of the square will tend to be equal to the number of points inside the circle divided by the total number of points."
   ]
  },
  {
   "cell_type": "code",
   "execution_count": 2,
   "metadata": {},
   "outputs": [],
   "source": [
    "def mc_pi_aprox(N):\n",
    "    x, y = np.random.uniform(-1, 1, size=(2, N))\n",
    "    interior = (x**2 + y**2) <= 1\n",
    "    pi = interior.sum() * 4 / N\n",
    "    return pi, x, y, interior"
   ]
  },
  {
   "attachments": {},
   "cell_type": "markdown",
   "metadata": {},
   "source": [
    "### Plotting the points outside and inside the circel"
   ]
  },
  {
   "cell_type": "code",
   "execution_count": 7,
   "metadata": {},
   "outputs": [
    {
     "data": {
      "image/png": "[encoded data removed]",
      "text/plain": [
       "<Figure size 640x480 with 1 Axes>"
      ]
     },
     "metadata": {},
     "output_type": "display_data"
    },
    {
     "data": {
      "text/plain": [
       "<function matplotlib.pyplot.close(fig: \"None | int | str | Figure | Literal['all']\" = None) -> 'None'>"
      ]
     },
     "execution_count": 7,
     "metadata": {},
     "output_type": "execute_result"
    }
   ],
   "source": [
    "resultado=mc_pi_aprox(1000)\n",
    "pi=resultado[0]\n",
    "#plt.figure()\n",
    "plt.plot(resultado[1],resultado[2],'b.',markersize=1.5)\n",
    "plt.plot(resultado[1][resultado[3]],resultado[2][resultado[3]],'r.',markersize=1.5)\n",
    "#plt.plot(0, 0, label='$\\hat \\pi$ = {:4.4f}'\n",
    "#             .format(pi), alpha=0)\n",
    "plt.axis('square')\n",
    "#plt.legend(frameon=True, framealpha=0.9, fontsize=16)\n",
    "#mc_pi_aprox(10000)\n",
    "plt.show()\n",
    "plt.close"
   ]
  },
  {
   "attachments": {},
   "cell_type": "markdown",
   "metadata": {},
   "source": [
    " #### The estimation of $\\pi$ is repeated with N points a number of times equal to Npruebas, and the mean value and standard deviation of the sample are calculated."
   ]
  },
  {
   "cell_type": "code",
   "execution_count": 8,
   "metadata": {},
   "outputs": [],
   "source": [
    "def getEst(Npuntos,Npruebas):\n",
    "    res=[]\n",
    "    for i in range(Npruebas):\n",
    "        res.append(mc_pi_aprox(Npuntos)[0])\n",
    "    res=np.array(res)\n",
    "    mu=np.mean(res)\n",
    "    std=np.std(res)\n",
    "    return mu,std"
   ]
  },
  {
   "cell_type": "code",
   "execution_count": 9,
   "metadata": {},
   "outputs": [
    {
     "data": {
      "text/plain": [
       "(np.float64(3.1423520000000003), np.float64(0.0169271644406262))"
      ]
     },
     "execution_count": 9,
     "metadata": {},
     "output_type": "execute_result"
    }
   ],
   "source": [
    "getEst(10000,100)"
   ]
  },
  {
   "attachments": {},
   "cell_type": "markdown",
   "metadata": {},
   "source": [
    "#### Exercise 1: For a fixed value of Npruebas, calculate the value of $\\pi$ such that the standard deviation is less than $10^{-5}$."
   ]
  },
  {
   "cell_type": "markdown",
   "metadata": {},
   "source": [
    "#### Exercise 2: Calcuate the integral of the function f(x)=sin(x) from 0 to pi/2 using the a Monte Carlo method similar to the one used to estimate $\\pi$\n"
   ]
  },
  {
   "cell_type": "markdown",
   "metadata": {},
   "source": [
    "#### Computation of an integral using a Markov Chain Monte Carlo Method"
   ]
  },
  {
   "cell_type": "code",
   "execution_count": null,
   "metadata": {},
   "outputs": [],
   "source": [
    "import numpy as np\n",
    "\n",
    "# Parameters\n",
    "a, b = 0, np.pi\n",
    "F_max = 1.0  # max value of sin(x) in [0, pi]\n",
    "N_steps = 100000\n",
    "\n",
    "# Initialize Markov chain\n",
    "x, y = np.random.uniform(a, b), np.random.uniform(0, F_max)\n",
    "N_hits = 0\n",
    "\n",
    "for _ in range(N_steps):\n",
    "    # Propose new point\n",
    "    dx = np.random.normal(0, 0.1)\n",
    "    dy = np.random.normal(0, 0.1)\n",
    "    x_new = x + dx\n",
    "    y_new = y + dy\n",
    "\n",
    "    # Check bounds\n",
    "    if a <= x_new <= b and 0 <= y_new <= F_max:\n",
    "        x, y = x_new, y_new\n",
    "        # Hit or miss\n",
    "        if y < np.sin(x):\n",
    "            N_hits += 1\n",
    "    # If out of bounds, stay at current position\n",
    "\n",
    "# Estimate integral\n",
    "integral = (b - a) * F_max * N_hits / N_steps\n",
    "print(f\"Estimated integral of sin(x) from 0 to pi (Markov chain): {integral}\")"
   ]
  },
  {
   "cell_type": "markdown",
   "metadata": {},
   "source": [
    "#### Exercise: Calculate the $\\int_0^2 e^{-2 x} \\cos(x) dx$ i) with naive MonteCarlo ii) with importance sampling"
   ]
  }
 ],
 "metadata": {
  "kernelspec": {
   "display_name": "stats",
   "language": "python",
   "name": "python3"
  },
  "language_info": {
   "codemirror_mode": {
    "name": "ipython",
    "version": 3
   },
   "file_extension": ".py",
   "mimetype": "text/x-python",
   "name": "python",
   "nbconvert_exporter": "python",
   "pygments_lexer": "ipython3",
   "version": "3.11.13"
  }
 },
 "nbformat": 4,
 "nbformat_minor": 2
}
